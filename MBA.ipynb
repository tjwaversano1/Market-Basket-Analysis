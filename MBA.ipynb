{
 "cells": [
  {
   "cell_type": "code",
   "execution_count": 3,
   "outputs": [],
   "source": [
    "import pandas as pd\n",
    "import numpy as np\n",
    "import matplotlib.pyplot as plt"
   ],
   "metadata": {
    "collapsed": false,
    "pycharm": {
     "name": "#%%\n"
    }
   }
  },
  {
   "cell_type": "code",
   "execution_count": null,
   "outputs": [],
   "source": [
    "##Get multiple outputs in teh same cell\n",
    "from IPython.core.interactiveshell import InteractiveShell\n",
    "InteractiveShell.ast_node_interactivity = 'all'"
   ],
   "metadata": {
    "collapsed": false,
    "pycharm": {
     "name": "#%%\n"
    }
   }
  },
  {
   "cell_type": "code",
   "execution_count": null,
   "outputs": [],
   "source": [
    "##ignore all warnings\n",
    "import warnings\n",
    "warnings.filterwarnings('ignore')\n",
    "warnings.filterwarnings(action = 'ignore', category = DeprecationWarning)\n"
   ],
   "metadata": {
    "collapsed": false,
    "pycharm": {
     "name": "#%%\n"
    }
   }
  },
  {
   "cell_type": "code",
   "execution_count": null,
   "outputs": [],
   "source": [
    "##Display all rows and columns of a dataframe instead of a truncated version\n",
    "from IPython.display import display\n",
    "pd.set_option('display.max_columns', None)\n",
    "pd.set_option('display.max_rows', None)"
   ],
   "metadata": {
    "collapsed": false,
    "pycharm": {
     "name": "#%%\n"
    }
   }
  },
  {
   "cell_type": "code",
   "execution_count": 29,
   "outputs": [
    {
     "data": {
      "text/plain": "   customer_id      city state_province country  customer_region_id  \\\n0            1  Tlaxiaco         Oaxaca  Mexico                  30   \n1            2     Sooke             BC  Canada                 101   \n2            3  Issaquah             WA     USA                  21   \n3            4   Burnaby             BC  Canada                  92   \n4            5    Novato             CA     USA                  42   \n\n  yearly_income gender  total_children  num_children_at_home  \\\n0   $30K - $50K      F               4                     2   \n1   $70K - $90K      M               1                     0   \n2   $50K - $70K      F               1                     1   \n3   $10K - $30K      M               4                     4   \n4   $30K - $50K      F               3                     0   \n\n             education date_accnt_opened member_card      occupation  \\\n0  Partial High School          10/09/91      Bronze  Skilled Manual   \n1  Partial High School          11/03/93      Bronze    Professional   \n2     Bachelors Degree          11/06/91      Bronze    Professional   \n3  Partial High School          21/05/94      Normal  Skilled Manual   \n4      Partial College          21/08/92      Silver          Manual   \n\n  houseowner  num_cars_owned  \n0          Y               4  \n1          N               3  \n2          Y               2  \n3          N               2  \n4          N               3  ",
      "text/html": "<div>\n<style scoped>\n    .dataframe tbody tr th:only-of-type {\n        vertical-align: middle;\n    }\n\n    .dataframe tbody tr th {\n        vertical-align: top;\n    }\n\n    .dataframe thead th {\n        text-align: right;\n    }\n</style>\n<table border=\"1\" class=\"dataframe\">\n  <thead>\n    <tr style=\"text-align: right;\">\n      <th></th>\n      <th>customer_id</th>\n      <th>city</th>\n      <th>state_province</th>\n      <th>country</th>\n      <th>customer_region_id</th>\n      <th>yearly_income</th>\n      <th>gender</th>\n      <th>total_children</th>\n      <th>num_children_at_home</th>\n      <th>education</th>\n      <th>date_accnt_opened</th>\n      <th>member_card</th>\n      <th>occupation</th>\n      <th>houseowner</th>\n      <th>num_cars_owned</th>\n    </tr>\n  </thead>\n  <tbody>\n    <tr>\n      <th>0</th>\n      <td>1</td>\n      <td>Tlaxiaco</td>\n      <td>Oaxaca</td>\n      <td>Mexico</td>\n      <td>30</td>\n      <td>$30K - $50K</td>\n      <td>F</td>\n      <td>4</td>\n      <td>2</td>\n      <td>Partial High School</td>\n      <td>10/09/91</td>\n      <td>Bronze</td>\n      <td>Skilled Manual</td>\n      <td>Y</td>\n      <td>4</td>\n    </tr>\n    <tr>\n      <th>1</th>\n      <td>2</td>\n      <td>Sooke</td>\n      <td>BC</td>\n      <td>Canada</td>\n      <td>101</td>\n      <td>$70K - $90K</td>\n      <td>M</td>\n      <td>1</td>\n      <td>0</td>\n      <td>Partial High School</td>\n      <td>11/03/93</td>\n      <td>Bronze</td>\n      <td>Professional</td>\n      <td>N</td>\n      <td>3</td>\n    </tr>\n    <tr>\n      <th>2</th>\n      <td>3</td>\n      <td>Issaquah</td>\n      <td>WA</td>\n      <td>USA</td>\n      <td>21</td>\n      <td>$50K - $70K</td>\n      <td>F</td>\n      <td>1</td>\n      <td>1</td>\n      <td>Bachelors Degree</td>\n      <td>11/06/91</td>\n      <td>Bronze</td>\n      <td>Professional</td>\n      <td>Y</td>\n      <td>2</td>\n    </tr>\n    <tr>\n      <th>3</th>\n      <td>4</td>\n      <td>Burnaby</td>\n      <td>BC</td>\n      <td>Canada</td>\n      <td>92</td>\n      <td>$10K - $30K</td>\n      <td>M</td>\n      <td>4</td>\n      <td>4</td>\n      <td>Partial High School</td>\n      <td>21/05/94</td>\n      <td>Normal</td>\n      <td>Skilled Manual</td>\n      <td>N</td>\n      <td>2</td>\n    </tr>\n    <tr>\n      <th>4</th>\n      <td>5</td>\n      <td>Novato</td>\n      <td>CA</td>\n      <td>USA</td>\n      <td>42</td>\n      <td>$30K - $50K</td>\n      <td>F</td>\n      <td>3</td>\n      <td>0</td>\n      <td>Partial College</td>\n      <td>21/08/92</td>\n      <td>Silver</td>\n      <td>Manual</td>\n      <td>N</td>\n      <td>3</td>\n    </tr>\n  </tbody>\n</table>\n</div>"
     },
     "execution_count": 29,
     "metadata": {},
     "output_type": "execute_result"
    }
   ],
   "source": [
    "##Load of the customer dataset\n",
    "customer = pd.read_csv('C:/Users/tjwav/OneDrive/Desktop/data/customer.csv')\n",
    "customer.head()"
   ],
   "metadata": {
    "collapsed": false,
    "pycharm": {
     "name": "#%%\n"
    }
   }
  },
  {
   "cell_type": "code",
   "execution_count": 15,
   "outputs": [
    {
     "data": {
      "text/plain": "   product_class_id  product_id  brand_name                 product_name  \\\n0                30           1  Washington       Washington Berry Juice   \n1                52           2  Washington       Washington Mango Drink   \n2                52           3  Washington  Washington Strawberry Drink   \n3                19           4  Washington        Washington Cream Soda   \n4                19           5  Washington         Washington Diet Soda   \n\n           SKU   SRP  gross_weight  net_weight  recyclable_package  low_fat  \\\n0  90748583674  2.85          8.39        6.39                   0        0   \n1  96516502499  0.74          7.42        4.42                   0        1   \n2  58427771925  0.83         13.10       11.10                   1        1   \n3  64412155747  3.64         10.60        9.60                   1        0   \n4  85561191439  2.19          6.66        4.65                   1        0   \n\n   units_per_case  cases_per_pallet  shelf_width  shelf_height  shelf_depth  \n0              30                14         16.9         12.60         7.40  \n1              18                 8         13.4          3.71        22.60  \n2              17                13         14.4         11.00         7.77  \n3              26                10         22.9         18.90         7.93  \n4               7                10         20.7         21.90        19.20  ",
      "text/html": "<div>\n<style scoped>\n    .dataframe tbody tr th:only-of-type {\n        vertical-align: middle;\n    }\n\n    .dataframe tbody tr th {\n        vertical-align: top;\n    }\n\n    .dataframe thead th {\n        text-align: right;\n    }\n</style>\n<table border=\"1\" class=\"dataframe\">\n  <thead>\n    <tr style=\"text-align: right;\">\n      <th></th>\n      <th>product_class_id</th>\n      <th>product_id</th>\n      <th>brand_name</th>\n      <th>product_name</th>\n      <th>SKU</th>\n      <th>SRP</th>\n      <th>gross_weight</th>\n      <th>net_weight</th>\n      <th>recyclable_package</th>\n      <th>low_fat</th>\n      <th>units_per_case</th>\n      <th>cases_per_pallet</th>\n      <th>shelf_width</th>\n      <th>shelf_height</th>\n      <th>shelf_depth</th>\n    </tr>\n  </thead>\n  <tbody>\n    <tr>\n      <th>0</th>\n      <td>30</td>\n      <td>1</td>\n      <td>Washington</td>\n      <td>Washington Berry Juice</td>\n      <td>90748583674</td>\n      <td>2.85</td>\n      <td>8.39</td>\n      <td>6.39</td>\n      <td>0</td>\n      <td>0</td>\n      <td>30</td>\n      <td>14</td>\n      <td>16.9</td>\n      <td>12.60</td>\n      <td>7.40</td>\n    </tr>\n    <tr>\n      <th>1</th>\n      <td>52</td>\n      <td>2</td>\n      <td>Washington</td>\n      <td>Washington Mango Drink</td>\n      <td>96516502499</td>\n      <td>0.74</td>\n      <td>7.42</td>\n      <td>4.42</td>\n      <td>0</td>\n      <td>1</td>\n      <td>18</td>\n      <td>8</td>\n      <td>13.4</td>\n      <td>3.71</td>\n      <td>22.60</td>\n    </tr>\n    <tr>\n      <th>2</th>\n      <td>52</td>\n      <td>3</td>\n      <td>Washington</td>\n      <td>Washington Strawberry Drink</td>\n      <td>58427771925</td>\n      <td>0.83</td>\n      <td>13.10</td>\n      <td>11.10</td>\n      <td>1</td>\n      <td>1</td>\n      <td>17</td>\n      <td>13</td>\n      <td>14.4</td>\n      <td>11.00</td>\n      <td>7.77</td>\n    </tr>\n    <tr>\n      <th>3</th>\n      <td>19</td>\n      <td>4</td>\n      <td>Washington</td>\n      <td>Washington Cream Soda</td>\n      <td>64412155747</td>\n      <td>3.64</td>\n      <td>10.60</td>\n      <td>9.60</td>\n      <td>1</td>\n      <td>0</td>\n      <td>26</td>\n      <td>10</td>\n      <td>22.9</td>\n      <td>18.90</td>\n      <td>7.93</td>\n    </tr>\n    <tr>\n      <th>4</th>\n      <td>19</td>\n      <td>5</td>\n      <td>Washington</td>\n      <td>Washington Diet Soda</td>\n      <td>85561191439</td>\n      <td>2.19</td>\n      <td>6.66</td>\n      <td>4.65</td>\n      <td>1</td>\n      <td>0</td>\n      <td>7</td>\n      <td>10</td>\n      <td>20.7</td>\n      <td>21.90</td>\n      <td>19.20</td>\n    </tr>\n  </tbody>\n</table>\n</div>"
     },
     "execution_count": 15,
     "metadata": {},
     "output_type": "execute_result"
    }
   ],
   "source": [
    "##Load of the Products data Set\n",
    "product = pd.read_csv('C:/Users/tjwav/OneDrive/Desktop/data/product.csv')\n",
    "product.head()"
   ],
   "metadata": {
    "collapsed": false,
    "pycharm": {
     "name": "#%%\n"
    }
   }
  },
  {
   "cell_type": "code",
   "execution_count": 16,
   "outputs": [
    {
     "data": {
      "text/plain": "   product_class_id   subcategory       category       department family\n0                 1          Nuts      Specialty          Produce   Food\n1                 2     Shellfish        Seafood          Seafood   Food\n2                 3  Canned Fruit          Fruit  Canned Products   Food\n3                 4        Spices   Baking Goods     Baking Goods   Food\n4                 5         Pasta  Starchy Foods    Starchy Foods   Food",
      "text/html": "<div>\n<style scoped>\n    .dataframe tbody tr th:only-of-type {\n        vertical-align: middle;\n    }\n\n    .dataframe tbody tr th {\n        vertical-align: top;\n    }\n\n    .dataframe thead th {\n        text-align: right;\n    }\n</style>\n<table border=\"1\" class=\"dataframe\">\n  <thead>\n    <tr style=\"text-align: right;\">\n      <th></th>\n      <th>product_class_id</th>\n      <th>subcategory</th>\n      <th>category</th>\n      <th>department</th>\n      <th>family</th>\n    </tr>\n  </thead>\n  <tbody>\n    <tr>\n      <th>0</th>\n      <td>1</td>\n      <td>Nuts</td>\n      <td>Specialty</td>\n      <td>Produce</td>\n      <td>Food</td>\n    </tr>\n    <tr>\n      <th>1</th>\n      <td>2</td>\n      <td>Shellfish</td>\n      <td>Seafood</td>\n      <td>Seafood</td>\n      <td>Food</td>\n    </tr>\n    <tr>\n      <th>2</th>\n      <td>3</td>\n      <td>Canned Fruit</td>\n      <td>Fruit</td>\n      <td>Canned Products</td>\n      <td>Food</td>\n    </tr>\n    <tr>\n      <th>3</th>\n      <td>4</td>\n      <td>Spices</td>\n      <td>Baking Goods</td>\n      <td>Baking Goods</td>\n      <td>Food</td>\n    </tr>\n    <tr>\n      <th>4</th>\n      <td>5</td>\n      <td>Pasta</td>\n      <td>Starchy Foods</td>\n      <td>Starchy Foods</td>\n      <td>Food</td>\n    </tr>\n  </tbody>\n</table>\n</div>"
     },
     "execution_count": 16,
     "metadata": {},
     "output_type": "execute_result"
    }
   ],
   "source": [
    "##Load of the Departments data set\n",
    "departments = pd.read_csv('C:/Users/tjwav/OneDrive/Desktop/data/product_class.csv')\n",
    "departments.head()"
   ],
   "metadata": {
    "collapsed": false,
    "pycharm": {
     "name": "#%%\n"
    }
   }
  },
  {
   "cell_type": "code",
   "execution_count": 77,
   "outputs": [
    {
     "ename": "NameError",
     "evalue": "name 'p' is not defined",
     "output_type": "error",
     "traceback": [
      "\u001B[1;31m---------------------------------------------------------------------------\u001B[0m",
      "\u001B[1;31mNameError\u001B[0m                                 Traceback (most recent call last)",
      "Input \u001B[1;32mIn [77]\u001B[0m, in \u001B[0;36m<cell line: 4>\u001B[1;34m()\u001B[0m\n\u001B[0;32m      2\u001B[0m region\u001B[38;5;241m=\u001B[39mpd\u001B[38;5;241m.\u001B[39mread_csv(\u001B[38;5;124m'\u001B[39m\u001B[38;5;124mC:/Users/tjwav/OneDrive/Desktop/data/region.csv\u001B[39m\u001B[38;5;124m'\u001B[39m)\n\u001B[0;32m      3\u001B[0m region\u001B[38;5;241m.\u001B[39mhead()\n\u001B[1;32m----> 4\u001B[0m \u001B[43mp\u001B[49m\n",
      "\u001B[1;31mNameError\u001B[0m: name 'p' is not defined"
     ]
    }
   ],
   "source": [
    "##Load of the Regions dataset\n",
    "region=pd.read_csv('C:/Users/tjwav/OneDrive/Desktop/data/region.csv')\n",
    "region.head()\n",
    "p"
   ],
   "metadata": {
    "collapsed": false,
    "pycharm": {
     "name": "#%%\n"
    }
   }
  },
  {
   "cell_type": "code",
   "execution_count": 75,
   "outputs": [
    {
     "data": {
      "text/plain": "   product_id  time_id  customer_id  store_id  store_sales  store_cost  \\\n0         337      371         6280         2         1.50      0.5100   \n1        1512      371         6280         2         1.62      0.6318   \n2         963      371         4018         2         2.40      0.7200   \n3         181      371         4018         2         2.79      1.0323   \n4        1383      371         4018         2         5.18      2.1756   \n\n   unit_sales  \n0           2  \n1           3  \n2           1  \n3           3  \n4           2  ",
      "text/html": "<div>\n<style scoped>\n    .dataframe tbody tr th:only-of-type {\n        vertical-align: middle;\n    }\n\n    .dataframe tbody tr th {\n        vertical-align: top;\n    }\n\n    .dataframe thead th {\n        text-align: right;\n    }\n</style>\n<table border=\"1\" class=\"dataframe\">\n  <thead>\n    <tr style=\"text-align: right;\">\n      <th></th>\n      <th>product_id</th>\n      <th>time_id</th>\n      <th>customer_id</th>\n      <th>store_id</th>\n      <th>store_sales</th>\n      <th>store_cost</th>\n      <th>unit_sales</th>\n    </tr>\n  </thead>\n  <tbody>\n    <tr>\n      <th>0</th>\n      <td>337</td>\n      <td>371</td>\n      <td>6280</td>\n      <td>2</td>\n      <td>1.50</td>\n      <td>0.5100</td>\n      <td>2</td>\n    </tr>\n    <tr>\n      <th>1</th>\n      <td>1512</td>\n      <td>371</td>\n      <td>6280</td>\n      <td>2</td>\n      <td>1.62</td>\n      <td>0.6318</td>\n      <td>3</td>\n    </tr>\n    <tr>\n      <th>2</th>\n      <td>963</td>\n      <td>371</td>\n      <td>4018</td>\n      <td>2</td>\n      <td>2.40</td>\n      <td>0.7200</td>\n      <td>1</td>\n    </tr>\n    <tr>\n      <th>3</th>\n      <td>181</td>\n      <td>371</td>\n      <td>4018</td>\n      <td>2</td>\n      <td>2.79</td>\n      <td>1.0323</td>\n      <td>3</td>\n    </tr>\n    <tr>\n      <th>4</th>\n      <td>1383</td>\n      <td>371</td>\n      <td>4018</td>\n      <td>2</td>\n      <td>5.18</td>\n      <td>2.1756</td>\n      <td>2</td>\n    </tr>\n  </tbody>\n</table>\n</div>"
     },
     "execution_count": 75,
     "metadata": {},
     "output_type": "execute_result"
    }
   ],
   "source": [
    "##Load of the Sales data set\n",
    "sales = pd.read_csv('C:/Users/tjwav/OneDrive/Desktop/data/sales.csv')\n",
    "sales.head()\n"
   ],
   "metadata": {
    "collapsed": false,
    "pycharm": {
     "name": "#%%\n"
    }
   }
  },
  {
   "cell_type": "code",
   "execution_count": 19,
   "outputs": [
    {
     "data": {
      "text/plain": "   store_id           store_type  region_id store_name  store_number  \\\n0         0         HeadQuarters          0         HQ             0   \n1         1          Supermarket         28    Store 1             1   \n2         2        Small Grocery         78    Store 2             2   \n3         3          Supermarket         76    Store 3             3   \n4         4  Gourmet Supermarket         27    Store 4             4   \n\n  store_street_address  store_city store_state  store_postal_code  \\\n0        1 Alameda Way     Alameda          CA              55555   \n1       2853 Bailey Rd    Acapulco    Guerrero              55555   \n2   5203 Catanzaro Way  Bellingham          WA              55555   \n3   1501 Ramsey Circle   Bremerton          WA              55555   \n4     433 St George Dr     Camacho   Zacatecas              55555   \n\n  store_country  ... last_remodel_date store_sqft grocery_sqft frozen_sqft  \\\n0           USA  ...    4/12/1990 0:00      25638        18697        3648   \n1        Mexico  ...    5/12/1990 0:00      23593        17475        3671   \n2           USA  ...     4/6/1973 0:00      28206        22271        3561   \n3           USA  ...   19/11/1967 0:00      39696        24390        9184   \n4        Mexico  ...    1/12/1995 0:00      23759        16844        4149   \n\n  meat_sqft  coffee_bar  video_store  salad_bar  prepared_food  florist  \n0      3293           0            0          0              0        0  \n1      2447           0            0          0              0        0  \n2      2374           1            0          0              0        0  \n3      6122           0            0          1              1        0  \n4      2766           1            0          1              1        1  \n\n[5 rows x 24 columns]",
      "text/html": "<div>\n<style scoped>\n    .dataframe tbody tr th:only-of-type {\n        vertical-align: middle;\n    }\n\n    .dataframe tbody tr th {\n        vertical-align: top;\n    }\n\n    .dataframe thead th {\n        text-align: right;\n    }\n</style>\n<table border=\"1\" class=\"dataframe\">\n  <thead>\n    <tr style=\"text-align: right;\">\n      <th></th>\n      <th>store_id</th>\n      <th>store_type</th>\n      <th>region_id</th>\n      <th>store_name</th>\n      <th>store_number</th>\n      <th>store_street_address</th>\n      <th>store_city</th>\n      <th>store_state</th>\n      <th>store_postal_code</th>\n      <th>store_country</th>\n      <th>...</th>\n      <th>last_remodel_date</th>\n      <th>store_sqft</th>\n      <th>grocery_sqft</th>\n      <th>frozen_sqft</th>\n      <th>meat_sqft</th>\n      <th>coffee_bar</th>\n      <th>video_store</th>\n      <th>salad_bar</th>\n      <th>prepared_food</th>\n      <th>florist</th>\n    </tr>\n  </thead>\n  <tbody>\n    <tr>\n      <th>0</th>\n      <td>0</td>\n      <td>HeadQuarters</td>\n      <td>0</td>\n      <td>HQ</td>\n      <td>0</td>\n      <td>1 Alameda Way</td>\n      <td>Alameda</td>\n      <td>CA</td>\n      <td>55555</td>\n      <td>USA</td>\n      <td>...</td>\n      <td>4/12/1990 0:00</td>\n      <td>25638</td>\n      <td>18697</td>\n      <td>3648</td>\n      <td>3293</td>\n      <td>0</td>\n      <td>0</td>\n      <td>0</td>\n      <td>0</td>\n      <td>0</td>\n    </tr>\n    <tr>\n      <th>1</th>\n      <td>1</td>\n      <td>Supermarket</td>\n      <td>28</td>\n      <td>Store 1</td>\n      <td>1</td>\n      <td>2853 Bailey Rd</td>\n      <td>Acapulco</td>\n      <td>Guerrero</td>\n      <td>55555</td>\n      <td>Mexico</td>\n      <td>...</td>\n      <td>5/12/1990 0:00</td>\n      <td>23593</td>\n      <td>17475</td>\n      <td>3671</td>\n      <td>2447</td>\n      <td>0</td>\n      <td>0</td>\n      <td>0</td>\n      <td>0</td>\n      <td>0</td>\n    </tr>\n    <tr>\n      <th>2</th>\n      <td>2</td>\n      <td>Small Grocery</td>\n      <td>78</td>\n      <td>Store 2</td>\n      <td>2</td>\n      <td>5203 Catanzaro Way</td>\n      <td>Bellingham</td>\n      <td>WA</td>\n      <td>55555</td>\n      <td>USA</td>\n      <td>...</td>\n      <td>4/6/1973 0:00</td>\n      <td>28206</td>\n      <td>22271</td>\n      <td>3561</td>\n      <td>2374</td>\n      <td>1</td>\n      <td>0</td>\n      <td>0</td>\n      <td>0</td>\n      <td>0</td>\n    </tr>\n    <tr>\n      <th>3</th>\n      <td>3</td>\n      <td>Supermarket</td>\n      <td>76</td>\n      <td>Store 3</td>\n      <td>3</td>\n      <td>1501 Ramsey Circle</td>\n      <td>Bremerton</td>\n      <td>WA</td>\n      <td>55555</td>\n      <td>USA</td>\n      <td>...</td>\n      <td>19/11/1967 0:00</td>\n      <td>39696</td>\n      <td>24390</td>\n      <td>9184</td>\n      <td>6122</td>\n      <td>0</td>\n      <td>0</td>\n      <td>1</td>\n      <td>1</td>\n      <td>0</td>\n    </tr>\n    <tr>\n      <th>4</th>\n      <td>4</td>\n      <td>Gourmet Supermarket</td>\n      <td>27</td>\n      <td>Store 4</td>\n      <td>4</td>\n      <td>433 St George Dr</td>\n      <td>Camacho</td>\n      <td>Zacatecas</td>\n      <td>55555</td>\n      <td>Mexico</td>\n      <td>...</td>\n      <td>1/12/1995 0:00</td>\n      <td>23759</td>\n      <td>16844</td>\n      <td>4149</td>\n      <td>2766</td>\n      <td>1</td>\n      <td>0</td>\n      <td>1</td>\n      <td>1</td>\n      <td>1</td>\n    </tr>\n  </tbody>\n</table>\n<p>5 rows × 24 columns</p>\n</div>"
     },
     "execution_count": 19,
     "metadata": {},
     "output_type": "execute_result"
    }
   ],
   "source": [
    "##Load of the Stores dataset\n",
    "stores = pd.read_csv(\"C:/Users/tjwav/OneDrive/Desktop/data/store.csv\")\n",
    "stores.head()"
   ],
   "metadata": {
    "collapsed": false,
    "pycharm": {
     "name": "#%%\n"
    }
   }
  },
  {
   "cell_type": "code",
   "execution_count": 28,
   "outputs": [
    {
     "data": {
      "text/plain": "   time_id    the_date    the_day  the_year  the_month  day_of_month  \\\n0        1  1996-01-01     Monday      1996          1             1   \n1        2  1996-01-02    Tuesday      1996          1             2   \n2        3  1996-01-03  Wednesday      1996          1             3   \n3        4  1996-01-04   Thursday      1996          1             4   \n4        5  1996-01-05     Friday      1996          1             5   \n\n   day_since_epoch  \n0            33603  \n1            33604  \n2            33605  \n3            33606  \n4            33607  ",
      "text/html": "<div>\n<style scoped>\n    .dataframe tbody tr th:only-of-type {\n        vertical-align: middle;\n    }\n\n    .dataframe tbody tr th {\n        vertical-align: top;\n    }\n\n    .dataframe thead th {\n        text-align: right;\n    }\n</style>\n<table border=\"1\" class=\"dataframe\">\n  <thead>\n    <tr style=\"text-align: right;\">\n      <th></th>\n      <th>time_id</th>\n      <th>the_date</th>\n      <th>the_day</th>\n      <th>the_year</th>\n      <th>the_month</th>\n      <th>day_of_month</th>\n      <th>day_since_epoch</th>\n    </tr>\n  </thead>\n  <tbody>\n    <tr>\n      <th>0</th>\n      <td>1</td>\n      <td>1996-01-01</td>\n      <td>Monday</td>\n      <td>1996</td>\n      <td>1</td>\n      <td>1</td>\n      <td>33603</td>\n    </tr>\n    <tr>\n      <th>1</th>\n      <td>2</td>\n      <td>1996-01-02</td>\n      <td>Tuesday</td>\n      <td>1996</td>\n      <td>1</td>\n      <td>2</td>\n      <td>33604</td>\n    </tr>\n    <tr>\n      <th>2</th>\n      <td>3</td>\n      <td>1996-01-03</td>\n      <td>Wednesday</td>\n      <td>1996</td>\n      <td>1</td>\n      <td>3</td>\n      <td>33605</td>\n    </tr>\n    <tr>\n      <th>3</th>\n      <td>4</td>\n      <td>1996-01-04</td>\n      <td>Thursday</td>\n      <td>1996</td>\n      <td>1</td>\n      <td>4</td>\n      <td>33606</td>\n    </tr>\n    <tr>\n      <th>4</th>\n      <td>5</td>\n      <td>1996-01-05</td>\n      <td>Friday</td>\n      <td>1996</td>\n      <td>1</td>\n      <td>5</td>\n      <td>33607</td>\n    </tr>\n  </tbody>\n</table>\n</div>"
     },
     "execution_count": 28,
     "metadata": {},
     "output_type": "execute_result"
    }
   ],
   "source": [
    "##Load of the Time by Day dataset\n",
    "TBD = pd.read_csv(\"C:/Users/tjwav/OneDrive/Desktop/data/time_by_day.csv\")\n",
    "TBD.head()"
   ],
   "metadata": {
    "collapsed": false,
    "pycharm": {
     "name": "#%%\n"
    }
   }
  },
  {
   "cell_type": "code",
   "execution_count": 24,
   "outputs": [
    {
     "data": {
      "text/plain": "      time_id    the_date    the_day  the_year  the_month  day_of_month  \\\n1456     1457  1999-12-27     Monday      1999         12            27   \n1457     1458  1999-12-28    Tuesday      1999         12            28   \n1458     1459  1999-12-29  Wednesday      1999         12            29   \n1459     1460  1999-12-30   Thursday      1999         12            30   \n1460     1461  1999-12-31     Friday      1999         12            31   \n\n      day_since_epoch  \n1456            35059  \n1457            35060  \n1458            35061  \n1459            35062  \n1460            35063  ",
      "text/html": "<div>\n<style scoped>\n    .dataframe tbody tr th:only-of-type {\n        vertical-align: middle;\n    }\n\n    .dataframe tbody tr th {\n        vertical-align: top;\n    }\n\n    .dataframe thead th {\n        text-align: right;\n    }\n</style>\n<table border=\"1\" class=\"dataframe\">\n  <thead>\n    <tr style=\"text-align: right;\">\n      <th></th>\n      <th>time_id</th>\n      <th>the_date</th>\n      <th>the_day</th>\n      <th>the_year</th>\n      <th>the_month</th>\n      <th>day_of_month</th>\n      <th>day_since_epoch</th>\n    </tr>\n  </thead>\n  <tbody>\n    <tr>\n      <th>1456</th>\n      <td>1457</td>\n      <td>1999-12-27</td>\n      <td>Monday</td>\n      <td>1999</td>\n      <td>12</td>\n      <td>27</td>\n      <td>35059</td>\n    </tr>\n    <tr>\n      <th>1457</th>\n      <td>1458</td>\n      <td>1999-12-28</td>\n      <td>Tuesday</td>\n      <td>1999</td>\n      <td>12</td>\n      <td>28</td>\n      <td>35060</td>\n    </tr>\n    <tr>\n      <th>1458</th>\n      <td>1459</td>\n      <td>1999-12-29</td>\n      <td>Wednesday</td>\n      <td>1999</td>\n      <td>12</td>\n      <td>29</td>\n      <td>35061</td>\n    </tr>\n    <tr>\n      <th>1459</th>\n      <td>1460</td>\n      <td>1999-12-30</td>\n      <td>Thursday</td>\n      <td>1999</td>\n      <td>12</td>\n      <td>30</td>\n      <td>35062</td>\n    </tr>\n    <tr>\n      <th>1460</th>\n      <td>1461</td>\n      <td>1999-12-31</td>\n      <td>Friday</td>\n      <td>1999</td>\n      <td>12</td>\n      <td>31</td>\n      <td>35063</td>\n    </tr>\n  </tbody>\n</table>\n</div>"
     },
     "execution_count": 24,
     "metadata": {},
     "output_type": "execute_result"
    }
   ],
   "source": [
    "TBD.tail()"
   ],
   "metadata": {
    "collapsed": false,
    "pycharm": {
     "name": "#%%\n"
    }
   }
  },
  {
   "cell_type": "code",
   "execution_count": 27,
   "outputs": [
    {
     "data": {
      "text/plain": "   product_id  time_id  customer_id  store_id  store_sales  store_cost  \\\n0         337      371         6280         2         1.50      0.5100   \n1        1512      371         6280         2         1.62      0.6318   \n2         963      371         4018         2         2.40      0.7200   \n3         181      371         4018         2         2.79      1.0323   \n4        1383      371         4018         2         5.18      2.1756   \n\n   unit_sales         city_x state_province_x country_x  ...  yearly_income_y  \\\n0           2      Anacortes               WA       USA  ...      $30K - $50K   \n1           3      Anacortes               WA       USA  ...      $30K - $50K   \n2           1  Sedro Woolley               WA       USA  ...     $90K - $110K   \n3           3  Sedro Woolley               WA       USA  ...     $90K - $110K   \n4           2  Sedro Woolley               WA       USA  ...     $90K - $110K   \n\n  gender_y total_children_y  num_children_at_home_y          education_y  \\\n0        F                5                       0   High School Degree   \n1        F                5                       0   High School Degree   \n2        F                4                       0  Partial High School   \n3        F                4                       0  Partial High School   \n4        F                4                       0  Partial High School   \n\n  date_accnt_opened_y member_card_y    occupation_y houseowner_y  \\\n0            14/01/93        Bronze  Skilled Manual            Y   \n1            14/01/93        Bronze  Skilled Manual            Y   \n2            07/05/92        Silver      Management            Y   \n3            07/05/92        Silver      Management            Y   \n4            07/05/92        Silver      Management            Y   \n\n  num_cars_owned_y  \n0                3  \n1                3  \n2                2  \n3                2  \n4                2  \n\n[5 rows x 35 columns]",
      "text/html": "<div>\n<style scoped>\n    .dataframe tbody tr th:only-of-type {\n        vertical-align: middle;\n    }\n\n    .dataframe tbody tr th {\n        vertical-align: top;\n    }\n\n    .dataframe thead th {\n        text-align: right;\n    }\n</style>\n<table border=\"1\" class=\"dataframe\">\n  <thead>\n    <tr style=\"text-align: right;\">\n      <th></th>\n      <th>product_id</th>\n      <th>time_id</th>\n      <th>customer_id</th>\n      <th>store_id</th>\n      <th>store_sales</th>\n      <th>store_cost</th>\n      <th>unit_sales</th>\n      <th>city_x</th>\n      <th>state_province_x</th>\n      <th>country_x</th>\n      <th>...</th>\n      <th>yearly_income_y</th>\n      <th>gender_y</th>\n      <th>total_children_y</th>\n      <th>num_children_at_home_y</th>\n      <th>education_y</th>\n      <th>date_accnt_opened_y</th>\n      <th>member_card_y</th>\n      <th>occupation_y</th>\n      <th>houseowner_y</th>\n      <th>num_cars_owned_y</th>\n    </tr>\n  </thead>\n  <tbody>\n    <tr>\n      <th>0</th>\n      <td>337</td>\n      <td>371</td>\n      <td>6280</td>\n      <td>2</td>\n      <td>1.50</td>\n      <td>0.5100</td>\n      <td>2</td>\n      <td>Anacortes</td>\n      <td>WA</td>\n      <td>USA</td>\n      <td>...</td>\n      <td>$30K - $50K</td>\n      <td>F</td>\n      <td>5</td>\n      <td>0</td>\n      <td>High School Degree</td>\n      <td>14/01/93</td>\n      <td>Bronze</td>\n      <td>Skilled Manual</td>\n      <td>Y</td>\n      <td>3</td>\n    </tr>\n    <tr>\n      <th>1</th>\n      <td>1512</td>\n      <td>371</td>\n      <td>6280</td>\n      <td>2</td>\n      <td>1.62</td>\n      <td>0.6318</td>\n      <td>3</td>\n      <td>Anacortes</td>\n      <td>WA</td>\n      <td>USA</td>\n      <td>...</td>\n      <td>$30K - $50K</td>\n      <td>F</td>\n      <td>5</td>\n      <td>0</td>\n      <td>High School Degree</td>\n      <td>14/01/93</td>\n      <td>Bronze</td>\n      <td>Skilled Manual</td>\n      <td>Y</td>\n      <td>3</td>\n    </tr>\n    <tr>\n      <th>2</th>\n      <td>963</td>\n      <td>371</td>\n      <td>4018</td>\n      <td>2</td>\n      <td>2.40</td>\n      <td>0.7200</td>\n      <td>1</td>\n      <td>Sedro Woolley</td>\n      <td>WA</td>\n      <td>USA</td>\n      <td>...</td>\n      <td>$90K - $110K</td>\n      <td>F</td>\n      <td>4</td>\n      <td>0</td>\n      <td>Partial High School</td>\n      <td>07/05/92</td>\n      <td>Silver</td>\n      <td>Management</td>\n      <td>Y</td>\n      <td>2</td>\n    </tr>\n    <tr>\n      <th>3</th>\n      <td>181</td>\n      <td>371</td>\n      <td>4018</td>\n      <td>2</td>\n      <td>2.79</td>\n      <td>1.0323</td>\n      <td>3</td>\n      <td>Sedro Woolley</td>\n      <td>WA</td>\n      <td>USA</td>\n      <td>...</td>\n      <td>$90K - $110K</td>\n      <td>F</td>\n      <td>4</td>\n      <td>0</td>\n      <td>Partial High School</td>\n      <td>07/05/92</td>\n      <td>Silver</td>\n      <td>Management</td>\n      <td>Y</td>\n      <td>2</td>\n    </tr>\n    <tr>\n      <th>4</th>\n      <td>1383</td>\n      <td>371</td>\n      <td>4018</td>\n      <td>2</td>\n      <td>5.18</td>\n      <td>2.1756</td>\n      <td>2</td>\n      <td>Sedro Woolley</td>\n      <td>WA</td>\n      <td>USA</td>\n      <td>...</td>\n      <td>$90K - $110K</td>\n      <td>F</td>\n      <td>4</td>\n      <td>0</td>\n      <td>Partial High School</td>\n      <td>07/05/92</td>\n      <td>Silver</td>\n      <td>Management</td>\n      <td>Y</td>\n      <td>2</td>\n    </tr>\n  </tbody>\n</table>\n<p>5 rows × 35 columns</p>\n</div>"
     },
     "execution_count": 27,
     "metadata": {},
     "output_type": "execute_result"
    }
   ],
   "source": [
    "##Data merge on sales data frame with customer data frame on customer_id\n",
    "sales = sales.merge(customer, on = 'customer_id')\n",
    "sales.head()"
   ],
   "metadata": {
    "collapsed": false,
    "pycharm": {
     "name": "#%%\n"
    }
   }
  },
  {
   "cell_type": "code",
   "execution_count": 30,
   "outputs": [
    {
     "data": {
      "text/plain": "   product_id  time_id  customer_id  store_id  store_sales  store_cost  \\\n0         337      371         6280         2         1.50      0.5100   \n1         337      987         5713         2         0.75      0.2775   \n2         337      826         7413         3         2.25      1.1025   \n3         337      765         1005         3         3.00      1.1400   \n4         337      829         4998         3         2.25      1.1250   \n\n   unit_sales        city_x state_province_x country_x  ...   SRP  \\\n0           2     Anacortes               WA       USA  ...  0.75   \n1           1     Anacortes               WA       USA  ...  0.75   \n2           3     Bremerton               WA       USA  ...  0.75   \n3           4     Bremerton               WA       USA  ...  0.75   \n4           3  Port Orchard               WA       USA  ...  0.75   \n\n  gross_weight net_weight  recyclable_package  low_fat units_per_case  \\\n0         8.34       7.34                   1        1              9   \n1         8.34       7.34                   1        1              9   \n2         8.34       7.34                   1        1              9   \n3         8.34       7.34                   1        1              9   \n4         8.34       7.34                   1        1              9   \n\n  cases_per_pallet shelf_width shelf_height shelf_depth  \n0               10        18.4         21.6        4.76  \n1               10        18.4         21.6        4.76  \n2               10        18.4         21.6        4.76  \n3               10        18.4         21.6        4.76  \n4               10        18.4         21.6        4.76  \n\n[5 rows x 49 columns]",
      "text/html": "<div>\n<style scoped>\n    .dataframe tbody tr th:only-of-type {\n        vertical-align: middle;\n    }\n\n    .dataframe tbody tr th {\n        vertical-align: top;\n    }\n\n    .dataframe thead th {\n        text-align: right;\n    }\n</style>\n<table border=\"1\" class=\"dataframe\">\n  <thead>\n    <tr style=\"text-align: right;\">\n      <th></th>\n      <th>product_id</th>\n      <th>time_id</th>\n      <th>customer_id</th>\n      <th>store_id</th>\n      <th>store_sales</th>\n      <th>store_cost</th>\n      <th>unit_sales</th>\n      <th>city_x</th>\n      <th>state_province_x</th>\n      <th>country_x</th>\n      <th>...</th>\n      <th>SRP</th>\n      <th>gross_weight</th>\n      <th>net_weight</th>\n      <th>recyclable_package</th>\n      <th>low_fat</th>\n      <th>units_per_case</th>\n      <th>cases_per_pallet</th>\n      <th>shelf_width</th>\n      <th>shelf_height</th>\n      <th>shelf_depth</th>\n    </tr>\n  </thead>\n  <tbody>\n    <tr>\n      <th>0</th>\n      <td>337</td>\n      <td>371</td>\n      <td>6280</td>\n      <td>2</td>\n      <td>1.50</td>\n      <td>0.5100</td>\n      <td>2</td>\n      <td>Anacortes</td>\n      <td>WA</td>\n      <td>USA</td>\n      <td>...</td>\n      <td>0.75</td>\n      <td>8.34</td>\n      <td>7.34</td>\n      <td>1</td>\n      <td>1</td>\n      <td>9</td>\n      <td>10</td>\n      <td>18.4</td>\n      <td>21.6</td>\n      <td>4.76</td>\n    </tr>\n    <tr>\n      <th>1</th>\n      <td>337</td>\n      <td>987</td>\n      <td>5713</td>\n      <td>2</td>\n      <td>0.75</td>\n      <td>0.2775</td>\n      <td>1</td>\n      <td>Anacortes</td>\n      <td>WA</td>\n      <td>USA</td>\n      <td>...</td>\n      <td>0.75</td>\n      <td>8.34</td>\n      <td>7.34</td>\n      <td>1</td>\n      <td>1</td>\n      <td>9</td>\n      <td>10</td>\n      <td>18.4</td>\n      <td>21.6</td>\n      <td>4.76</td>\n    </tr>\n    <tr>\n      <th>2</th>\n      <td>337</td>\n      <td>826</td>\n      <td>7413</td>\n      <td>3</td>\n      <td>2.25</td>\n      <td>1.1025</td>\n      <td>3</td>\n      <td>Bremerton</td>\n      <td>WA</td>\n      <td>USA</td>\n      <td>...</td>\n      <td>0.75</td>\n      <td>8.34</td>\n      <td>7.34</td>\n      <td>1</td>\n      <td>1</td>\n      <td>9</td>\n      <td>10</td>\n      <td>18.4</td>\n      <td>21.6</td>\n      <td>4.76</td>\n    </tr>\n    <tr>\n      <th>3</th>\n      <td>337</td>\n      <td>765</td>\n      <td>1005</td>\n      <td>3</td>\n      <td>3.00</td>\n      <td>1.1400</td>\n      <td>4</td>\n      <td>Bremerton</td>\n      <td>WA</td>\n      <td>USA</td>\n      <td>...</td>\n      <td>0.75</td>\n      <td>8.34</td>\n      <td>7.34</td>\n      <td>1</td>\n      <td>1</td>\n      <td>9</td>\n      <td>10</td>\n      <td>18.4</td>\n      <td>21.6</td>\n      <td>4.76</td>\n    </tr>\n    <tr>\n      <th>4</th>\n      <td>337</td>\n      <td>829</td>\n      <td>4998</td>\n      <td>3</td>\n      <td>2.25</td>\n      <td>1.1250</td>\n      <td>3</td>\n      <td>Port Orchard</td>\n      <td>WA</td>\n      <td>USA</td>\n      <td>...</td>\n      <td>0.75</td>\n      <td>8.34</td>\n      <td>7.34</td>\n      <td>1</td>\n      <td>1</td>\n      <td>9</td>\n      <td>10</td>\n      <td>18.4</td>\n      <td>21.6</td>\n      <td>4.76</td>\n    </tr>\n  </tbody>\n</table>\n<p>5 rows × 49 columns</p>\n</div>"
     },
     "execution_count": 30,
     "metadata": {},
     "output_type": "execute_result"
    }
   ],
   "source": [
    "##Data merge on sales data frame with product data frame on product_id\n",
    "sales = sales.merge (product, on = 'product_id')\n",
    "sales.head()"
   ],
   "metadata": {
    "collapsed": false,
    "pycharm": {
     "name": "#%%\n"
    }
   }
  },
  {
   "cell_type": "code",
   "execution_count": 31,
   "outputs": [
    {
     "data": {
      "text/plain": "   product_id  time_id  customer_id  store_id  store_sales  store_cost  \\\n0         337      371         6280         2         1.50      0.5100   \n1         337      987         5713         2         0.75      0.2775   \n2         337      826         7413         3         2.25      1.1025   \n3         337      765         1005         3         3.00      1.1400   \n4         337      829         4998         3         2.25      1.1250   \n\n   unit_sales        city_x state_province_x country_x  ...  low_fat  \\\n0           2     Anacortes               WA       USA  ...        1   \n1           1     Anacortes               WA       USA  ...        1   \n2           3     Bremerton               WA       USA  ...        1   \n3           4     Bremerton               WA       USA  ...        1   \n4           3  Port Orchard               WA       USA  ...        1   \n\n  units_per_case cases_per_pallet  shelf_width  shelf_height shelf_depth  \\\n0              9               10         18.4          21.6        4.76   \n1              9               10         18.4          21.6        4.76   \n2              9               10         18.4          21.6        4.76   \n3              9               10         18.4          21.6        4.76   \n4              9               10         18.4          21.6        4.76   \n\n  subcategory     category    department family  \n0        Soup  Canned Soup  Canned Foods   Food  \n1        Soup  Canned Soup  Canned Foods   Food  \n2        Soup  Canned Soup  Canned Foods   Food  \n3        Soup  Canned Soup  Canned Foods   Food  \n4        Soup  Canned Soup  Canned Foods   Food  \n\n[5 rows x 53 columns]",
      "text/html": "<div>\n<style scoped>\n    .dataframe tbody tr th:only-of-type {\n        vertical-align: middle;\n    }\n\n    .dataframe tbody tr th {\n        vertical-align: top;\n    }\n\n    .dataframe thead th {\n        text-align: right;\n    }\n</style>\n<table border=\"1\" class=\"dataframe\">\n  <thead>\n    <tr style=\"text-align: right;\">\n      <th></th>\n      <th>product_id</th>\n      <th>time_id</th>\n      <th>customer_id</th>\n      <th>store_id</th>\n      <th>store_sales</th>\n      <th>store_cost</th>\n      <th>unit_sales</th>\n      <th>city_x</th>\n      <th>state_province_x</th>\n      <th>country_x</th>\n      <th>...</th>\n      <th>low_fat</th>\n      <th>units_per_case</th>\n      <th>cases_per_pallet</th>\n      <th>shelf_width</th>\n      <th>shelf_height</th>\n      <th>shelf_depth</th>\n      <th>subcategory</th>\n      <th>category</th>\n      <th>department</th>\n      <th>family</th>\n    </tr>\n  </thead>\n  <tbody>\n    <tr>\n      <th>0</th>\n      <td>337</td>\n      <td>371</td>\n      <td>6280</td>\n      <td>2</td>\n      <td>1.50</td>\n      <td>0.5100</td>\n      <td>2</td>\n      <td>Anacortes</td>\n      <td>WA</td>\n      <td>USA</td>\n      <td>...</td>\n      <td>1</td>\n      <td>9</td>\n      <td>10</td>\n      <td>18.4</td>\n      <td>21.6</td>\n      <td>4.76</td>\n      <td>Soup</td>\n      <td>Canned Soup</td>\n      <td>Canned Foods</td>\n      <td>Food</td>\n    </tr>\n    <tr>\n      <th>1</th>\n      <td>337</td>\n      <td>987</td>\n      <td>5713</td>\n      <td>2</td>\n      <td>0.75</td>\n      <td>0.2775</td>\n      <td>1</td>\n      <td>Anacortes</td>\n      <td>WA</td>\n      <td>USA</td>\n      <td>...</td>\n      <td>1</td>\n      <td>9</td>\n      <td>10</td>\n      <td>18.4</td>\n      <td>21.6</td>\n      <td>4.76</td>\n      <td>Soup</td>\n      <td>Canned Soup</td>\n      <td>Canned Foods</td>\n      <td>Food</td>\n    </tr>\n    <tr>\n      <th>2</th>\n      <td>337</td>\n      <td>826</td>\n      <td>7413</td>\n      <td>3</td>\n      <td>2.25</td>\n      <td>1.1025</td>\n      <td>3</td>\n      <td>Bremerton</td>\n      <td>WA</td>\n      <td>USA</td>\n      <td>...</td>\n      <td>1</td>\n      <td>9</td>\n      <td>10</td>\n      <td>18.4</td>\n      <td>21.6</td>\n      <td>4.76</td>\n      <td>Soup</td>\n      <td>Canned Soup</td>\n      <td>Canned Foods</td>\n      <td>Food</td>\n    </tr>\n    <tr>\n      <th>3</th>\n      <td>337</td>\n      <td>765</td>\n      <td>1005</td>\n      <td>3</td>\n      <td>3.00</td>\n      <td>1.1400</td>\n      <td>4</td>\n      <td>Bremerton</td>\n      <td>WA</td>\n      <td>USA</td>\n      <td>...</td>\n      <td>1</td>\n      <td>9</td>\n      <td>10</td>\n      <td>18.4</td>\n      <td>21.6</td>\n      <td>4.76</td>\n      <td>Soup</td>\n      <td>Canned Soup</td>\n      <td>Canned Foods</td>\n      <td>Food</td>\n    </tr>\n    <tr>\n      <th>4</th>\n      <td>337</td>\n      <td>829</td>\n      <td>4998</td>\n      <td>3</td>\n      <td>2.25</td>\n      <td>1.1250</td>\n      <td>3</td>\n      <td>Port Orchard</td>\n      <td>WA</td>\n      <td>USA</td>\n      <td>...</td>\n      <td>1</td>\n      <td>9</td>\n      <td>10</td>\n      <td>18.4</td>\n      <td>21.6</td>\n      <td>4.76</td>\n      <td>Soup</td>\n      <td>Canned Soup</td>\n      <td>Canned Foods</td>\n      <td>Food</td>\n    </tr>\n  </tbody>\n</table>\n<p>5 rows × 53 columns</p>\n</div>"
     },
     "execution_count": 31,
     "metadata": {},
     "output_type": "execute_result"
    }
   ],
   "source": [
    "##Data merge on sales data frame with department data frame on\n",
    "##product_class_id\n",
    "sales = sales.merge(departments, on ='product_class_id')\n",
    "sales.head()"
   ],
   "metadata": {
    "collapsed": false,
    "pycharm": {
     "name": "#%%\n"
    }
   }
  },
  {
   "cell_type": "code",
   "execution_count": 60,
   "outputs": [
    {
     "ename": "KeyError",
     "evalue": "'region_id'",
     "output_type": "error",
     "traceback": [
      "\u001B[1;31m---------------------------------------------------------------------------\u001B[0m",
      "\u001B[1;31mKeyError\u001B[0m                                  Traceback (most recent call last)",
      "Input \u001B[1;32mIn [60]\u001B[0m, in \u001B[0;36m<cell line: 2>\u001B[1;34m()\u001B[0m\n\u001B[0;32m      1\u001B[0m \u001B[38;5;66;03m##Data merge on sales data frame with regions data frame on region_id\u001B[39;00m\n\u001B[1;32m----> 2\u001B[0m sales \u001B[38;5;241m=\u001B[39m \u001B[43msales\u001B[49m\u001B[38;5;241;43m.\u001B[39;49m\u001B[43mmerge\u001B[49m\u001B[43m \u001B[49m\u001B[43m(\u001B[49m\u001B[43mregion\u001B[49m\u001B[43m,\u001B[49m\u001B[43mon\u001B[49m\u001B[38;5;241;43m=\u001B[39;49m\u001B[38;5;124;43m'\u001B[39;49m\u001B[38;5;124;43mregion_id\u001B[39;49m\u001B[38;5;124;43m'\u001B[39;49m\u001B[43m)\u001B[49m\n\u001B[0;32m      3\u001B[0m sales\u001B[38;5;241m.\u001B[39mhead()\n",
      "File \u001B[1;32m~\\anaconda3\\envs\\pythonProject\\lib\\site-packages\\pandas\\core\\frame.py:9345\u001B[0m, in \u001B[0;36mDataFrame.merge\u001B[1;34m(self, right, how, on, left_on, right_on, left_index, right_index, sort, suffixes, copy, indicator, validate)\u001B[0m\n\u001B[0;32m   9326\u001B[0m \u001B[38;5;129m@Substitution\u001B[39m(\u001B[38;5;124m\"\u001B[39m\u001B[38;5;124m\"\u001B[39m)\n\u001B[0;32m   9327\u001B[0m \u001B[38;5;129m@Appender\u001B[39m(_merge_doc, indents\u001B[38;5;241m=\u001B[39m\u001B[38;5;241m2\u001B[39m)\n\u001B[0;32m   9328\u001B[0m \u001B[38;5;28;01mdef\u001B[39;00m \u001B[38;5;21mmerge\u001B[39m(\n\u001B[1;32m   (...)\u001B[0m\n\u001B[0;32m   9341\u001B[0m     validate: \u001B[38;5;28mstr\u001B[39m \u001B[38;5;241m|\u001B[39m \u001B[38;5;28;01mNone\u001B[39;00m \u001B[38;5;241m=\u001B[39m \u001B[38;5;28;01mNone\u001B[39;00m,\n\u001B[0;32m   9342\u001B[0m ) \u001B[38;5;241m-\u001B[39m\u001B[38;5;241m>\u001B[39m DataFrame:\n\u001B[0;32m   9343\u001B[0m     \u001B[38;5;28;01mfrom\u001B[39;00m \u001B[38;5;21;01mpandas\u001B[39;00m\u001B[38;5;21;01m.\u001B[39;00m\u001B[38;5;21;01mcore\u001B[39;00m\u001B[38;5;21;01m.\u001B[39;00m\u001B[38;5;21;01mreshape\u001B[39;00m\u001B[38;5;21;01m.\u001B[39;00m\u001B[38;5;21;01mmerge\u001B[39;00m \u001B[38;5;28;01mimport\u001B[39;00m merge\n\u001B[1;32m-> 9345\u001B[0m     \u001B[38;5;28;01mreturn\u001B[39;00m \u001B[43mmerge\u001B[49m\u001B[43m(\u001B[49m\n\u001B[0;32m   9346\u001B[0m \u001B[43m        \u001B[49m\u001B[38;5;28;43mself\u001B[39;49m\u001B[43m,\u001B[49m\n\u001B[0;32m   9347\u001B[0m \u001B[43m        \u001B[49m\u001B[43mright\u001B[49m\u001B[43m,\u001B[49m\n\u001B[0;32m   9348\u001B[0m \u001B[43m        \u001B[49m\u001B[43mhow\u001B[49m\u001B[38;5;241;43m=\u001B[39;49m\u001B[43mhow\u001B[49m\u001B[43m,\u001B[49m\n\u001B[0;32m   9349\u001B[0m \u001B[43m        \u001B[49m\u001B[43mon\u001B[49m\u001B[38;5;241;43m=\u001B[39;49m\u001B[43mon\u001B[49m\u001B[43m,\u001B[49m\n\u001B[0;32m   9350\u001B[0m \u001B[43m        \u001B[49m\u001B[43mleft_on\u001B[49m\u001B[38;5;241;43m=\u001B[39;49m\u001B[43mleft_on\u001B[49m\u001B[43m,\u001B[49m\n\u001B[0;32m   9351\u001B[0m \u001B[43m        \u001B[49m\u001B[43mright_on\u001B[49m\u001B[38;5;241;43m=\u001B[39;49m\u001B[43mright_on\u001B[49m\u001B[43m,\u001B[49m\n\u001B[0;32m   9352\u001B[0m \u001B[43m        \u001B[49m\u001B[43mleft_index\u001B[49m\u001B[38;5;241;43m=\u001B[39;49m\u001B[43mleft_index\u001B[49m\u001B[43m,\u001B[49m\n\u001B[0;32m   9353\u001B[0m \u001B[43m        \u001B[49m\u001B[43mright_index\u001B[49m\u001B[38;5;241;43m=\u001B[39;49m\u001B[43mright_index\u001B[49m\u001B[43m,\u001B[49m\n\u001B[0;32m   9354\u001B[0m \u001B[43m        \u001B[49m\u001B[43msort\u001B[49m\u001B[38;5;241;43m=\u001B[39;49m\u001B[43msort\u001B[49m\u001B[43m,\u001B[49m\n\u001B[0;32m   9355\u001B[0m \u001B[43m        \u001B[49m\u001B[43msuffixes\u001B[49m\u001B[38;5;241;43m=\u001B[39;49m\u001B[43msuffixes\u001B[49m\u001B[43m,\u001B[49m\n\u001B[0;32m   9356\u001B[0m \u001B[43m        \u001B[49m\u001B[43mcopy\u001B[49m\u001B[38;5;241;43m=\u001B[39;49m\u001B[43mcopy\u001B[49m\u001B[43m,\u001B[49m\n\u001B[0;32m   9357\u001B[0m \u001B[43m        \u001B[49m\u001B[43mindicator\u001B[49m\u001B[38;5;241;43m=\u001B[39;49m\u001B[43mindicator\u001B[49m\u001B[43m,\u001B[49m\n\u001B[0;32m   9358\u001B[0m \u001B[43m        \u001B[49m\u001B[43mvalidate\u001B[49m\u001B[38;5;241;43m=\u001B[39;49m\u001B[43mvalidate\u001B[49m\u001B[43m,\u001B[49m\n\u001B[0;32m   9359\u001B[0m \u001B[43m    \u001B[49m\u001B[43m)\u001B[49m\n",
      "File \u001B[1;32m~\\anaconda3\\envs\\pythonProject\\lib\\site-packages\\pandas\\core\\reshape\\merge.py:107\u001B[0m, in \u001B[0;36mmerge\u001B[1;34m(left, right, how, on, left_on, right_on, left_index, right_index, sort, suffixes, copy, indicator, validate)\u001B[0m\n\u001B[0;32m     90\u001B[0m \u001B[38;5;129m@Substitution\u001B[39m(\u001B[38;5;124m\"\u001B[39m\u001B[38;5;130;01m\\n\u001B[39;00m\u001B[38;5;124mleft : DataFrame or named Series\u001B[39m\u001B[38;5;124m\"\u001B[39m)\n\u001B[0;32m     91\u001B[0m \u001B[38;5;129m@Appender\u001B[39m(_merge_doc, indents\u001B[38;5;241m=\u001B[39m\u001B[38;5;241m0\u001B[39m)\n\u001B[0;32m     92\u001B[0m \u001B[38;5;28;01mdef\u001B[39;00m \u001B[38;5;21mmerge\u001B[39m(\n\u001B[1;32m   (...)\u001B[0m\n\u001B[0;32m    105\u001B[0m     validate: \u001B[38;5;28mstr\u001B[39m \u001B[38;5;241m|\u001B[39m \u001B[38;5;28;01mNone\u001B[39;00m \u001B[38;5;241m=\u001B[39m \u001B[38;5;28;01mNone\u001B[39;00m,\n\u001B[0;32m    106\u001B[0m ) \u001B[38;5;241m-\u001B[39m\u001B[38;5;241m>\u001B[39m DataFrame:\n\u001B[1;32m--> 107\u001B[0m     op \u001B[38;5;241m=\u001B[39m \u001B[43m_MergeOperation\u001B[49m\u001B[43m(\u001B[49m\n\u001B[0;32m    108\u001B[0m \u001B[43m        \u001B[49m\u001B[43mleft\u001B[49m\u001B[43m,\u001B[49m\n\u001B[0;32m    109\u001B[0m \u001B[43m        \u001B[49m\u001B[43mright\u001B[49m\u001B[43m,\u001B[49m\n\u001B[0;32m    110\u001B[0m \u001B[43m        \u001B[49m\u001B[43mhow\u001B[49m\u001B[38;5;241;43m=\u001B[39;49m\u001B[43mhow\u001B[49m\u001B[43m,\u001B[49m\n\u001B[0;32m    111\u001B[0m \u001B[43m        \u001B[49m\u001B[43mon\u001B[49m\u001B[38;5;241;43m=\u001B[39;49m\u001B[43mon\u001B[49m\u001B[43m,\u001B[49m\n\u001B[0;32m    112\u001B[0m \u001B[43m        \u001B[49m\u001B[43mleft_on\u001B[49m\u001B[38;5;241;43m=\u001B[39;49m\u001B[43mleft_on\u001B[49m\u001B[43m,\u001B[49m\n\u001B[0;32m    113\u001B[0m \u001B[43m        \u001B[49m\u001B[43mright_on\u001B[49m\u001B[38;5;241;43m=\u001B[39;49m\u001B[43mright_on\u001B[49m\u001B[43m,\u001B[49m\n\u001B[0;32m    114\u001B[0m \u001B[43m        \u001B[49m\u001B[43mleft_index\u001B[49m\u001B[38;5;241;43m=\u001B[39;49m\u001B[43mleft_index\u001B[49m\u001B[43m,\u001B[49m\n\u001B[0;32m    115\u001B[0m \u001B[43m        \u001B[49m\u001B[43mright_index\u001B[49m\u001B[38;5;241;43m=\u001B[39;49m\u001B[43mright_index\u001B[49m\u001B[43m,\u001B[49m\n\u001B[0;32m    116\u001B[0m \u001B[43m        \u001B[49m\u001B[43msort\u001B[49m\u001B[38;5;241;43m=\u001B[39;49m\u001B[43msort\u001B[49m\u001B[43m,\u001B[49m\n\u001B[0;32m    117\u001B[0m \u001B[43m        \u001B[49m\u001B[43msuffixes\u001B[49m\u001B[38;5;241;43m=\u001B[39;49m\u001B[43msuffixes\u001B[49m\u001B[43m,\u001B[49m\n\u001B[0;32m    118\u001B[0m \u001B[43m        \u001B[49m\u001B[43mcopy\u001B[49m\u001B[38;5;241;43m=\u001B[39;49m\u001B[43mcopy\u001B[49m\u001B[43m,\u001B[49m\n\u001B[0;32m    119\u001B[0m \u001B[43m        \u001B[49m\u001B[43mindicator\u001B[49m\u001B[38;5;241;43m=\u001B[39;49m\u001B[43mindicator\u001B[49m\u001B[43m,\u001B[49m\n\u001B[0;32m    120\u001B[0m \u001B[43m        \u001B[49m\u001B[43mvalidate\u001B[49m\u001B[38;5;241;43m=\u001B[39;49m\u001B[43mvalidate\u001B[49m\u001B[43m,\u001B[49m\n\u001B[0;32m    121\u001B[0m \u001B[43m    \u001B[49m\u001B[43m)\u001B[49m\n\u001B[0;32m    122\u001B[0m     \u001B[38;5;28;01mreturn\u001B[39;00m op\u001B[38;5;241m.\u001B[39mget_result()\n",
      "File \u001B[1;32m~\\anaconda3\\envs\\pythonProject\\lib\\site-packages\\pandas\\core\\reshape\\merge.py:700\u001B[0m, in \u001B[0;36m_MergeOperation.__init__\u001B[1;34m(self, left, right, how, on, left_on, right_on, axis, left_index, right_index, sort, suffixes, copy, indicator, validate)\u001B[0m\n\u001B[0;32m    693\u001B[0m \u001B[38;5;28mself\u001B[39m\u001B[38;5;241m.\u001B[39m_cross \u001B[38;5;241m=\u001B[39m cross_col\n\u001B[0;32m    695\u001B[0m \u001B[38;5;66;03m# note this function has side effects\u001B[39;00m\n\u001B[0;32m    696\u001B[0m (\n\u001B[0;32m    697\u001B[0m     \u001B[38;5;28mself\u001B[39m\u001B[38;5;241m.\u001B[39mleft_join_keys,\n\u001B[0;32m    698\u001B[0m     \u001B[38;5;28mself\u001B[39m\u001B[38;5;241m.\u001B[39mright_join_keys,\n\u001B[0;32m    699\u001B[0m     \u001B[38;5;28mself\u001B[39m\u001B[38;5;241m.\u001B[39mjoin_names,\n\u001B[1;32m--> 700\u001B[0m ) \u001B[38;5;241m=\u001B[39m \u001B[38;5;28;43mself\u001B[39;49m\u001B[38;5;241;43m.\u001B[39;49m\u001B[43m_get_merge_keys\u001B[49m\u001B[43m(\u001B[49m\u001B[43m)\u001B[49m\n\u001B[0;32m    702\u001B[0m \u001B[38;5;66;03m# validate the merge keys dtypes. We may need to coerce\u001B[39;00m\n\u001B[0;32m    703\u001B[0m \u001B[38;5;66;03m# to avoid incompatible dtypes\u001B[39;00m\n\u001B[0;32m    704\u001B[0m \u001B[38;5;28mself\u001B[39m\u001B[38;5;241m.\u001B[39m_maybe_coerce_merge_keys()\n",
      "File \u001B[1;32m~\\anaconda3\\envs\\pythonProject\\lib\\site-packages\\pandas\\core\\reshape\\merge.py:1110\u001B[0m, in \u001B[0;36m_MergeOperation._get_merge_keys\u001B[1;34m(self)\u001B[0m\n\u001B[0;32m   1108\u001B[0m     right_keys\u001B[38;5;241m.\u001B[39mappend(rk)\n\u001B[0;32m   1109\u001B[0m \u001B[38;5;28;01mif\u001B[39;00m lk \u001B[38;5;129;01mis\u001B[39;00m \u001B[38;5;129;01mnot\u001B[39;00m \u001B[38;5;28;01mNone\u001B[39;00m:\n\u001B[1;32m-> 1110\u001B[0m     left_keys\u001B[38;5;241m.\u001B[39mappend(\u001B[43mleft\u001B[49m\u001B[38;5;241;43m.\u001B[39;49m\u001B[43m_get_label_or_level_values\u001B[49m\u001B[43m(\u001B[49m\u001B[43mlk\u001B[49m\u001B[43m)\u001B[49m)\n\u001B[0;32m   1111\u001B[0m     join_names\u001B[38;5;241m.\u001B[39mappend(lk)\n\u001B[0;32m   1112\u001B[0m \u001B[38;5;28;01melse\u001B[39;00m:\n\u001B[0;32m   1113\u001B[0m     \u001B[38;5;66;03m# work-around for merge_asof(left_index=True)\u001B[39;00m\n",
      "File \u001B[1;32m~\\anaconda3\\envs\\pythonProject\\lib\\site-packages\\pandas\\core\\generic.py:1840\u001B[0m, in \u001B[0;36mNDFrame._get_label_or_level_values\u001B[1;34m(self, key, axis)\u001B[0m\n\u001B[0;32m   1838\u001B[0m     values \u001B[38;5;241m=\u001B[39m \u001B[38;5;28mself\u001B[39m\u001B[38;5;241m.\u001B[39maxes[axis]\u001B[38;5;241m.\u001B[39mget_level_values(key)\u001B[38;5;241m.\u001B[39m_values\n\u001B[0;32m   1839\u001B[0m \u001B[38;5;28;01melse\u001B[39;00m:\n\u001B[1;32m-> 1840\u001B[0m     \u001B[38;5;28;01mraise\u001B[39;00m \u001B[38;5;167;01mKeyError\u001B[39;00m(key)\n\u001B[0;32m   1842\u001B[0m \u001B[38;5;66;03m# Check for duplicates\u001B[39;00m\n\u001B[0;32m   1843\u001B[0m \u001B[38;5;28;01mif\u001B[39;00m values\u001B[38;5;241m.\u001B[39mndim \u001B[38;5;241m>\u001B[39m \u001B[38;5;241m1\u001B[39m:\n",
      "\u001B[1;31mKeyError\u001B[0m: 'region_id'"
     ]
    }
   ],
   "source": [
    "##Data merge on sales data frame with regions data frame on region_id\n",
    "sales = sales.merge (region,on='region_id')\n",
    "sales.head()"
   ],
   "metadata": {
    "collapsed": false,
    "pycharm": {
     "name": "#%%\n"
    }
   }
  },
  {
   "cell_type": "code",
   "execution_count": 63,
   "outputs": [
    {
     "data": {
      "text/plain": "   product_id  time_id  customer_id  store_id  store_sales  store_cost  \\\n0         337      371         6280         2         1.50      0.5100   \n1         337      987         5713         2         0.75      0.2775   \n2         337      742          307         2         2.25      0.7425   \n3         963      371         4018         2         2.40      0.7200   \n4         963      952         5121         2         2.40      1.1040   \n\n   unit_sales         city_x state_province_x country_x  ...  \\\n0           2      Anacortes               WA       USA  ...   \n1           1      Anacortes               WA       USA  ...   \n2           3  Sedro Woolley               WA       USA  ...   \n3           1  Sedro Woolley               WA       USA  ...   \n4           1     Bellingham               WA       USA  ...   \n\n   last_remodel_date store_sqft grocery_sqft  frozen_sqft  meat_sqft  \\\n0      4/6/1973 0:00      28206        22271         3561       2374   \n1      4/6/1973 0:00      28206        22271         3561       2374   \n2      4/6/1973 0:00      28206        22271         3561       2374   \n3      4/6/1973 0:00      28206        22271         3561       2374   \n4      4/6/1973 0:00      28206        22271         3561       2374   \n\n  coffee_bar video_store salad_bar prepared_food florist  \n0          1           0         0             0       0  \n1          1           0         0             0       0  \n2          1           0         0             0       0  \n3          1           0         0             0       0  \n4          1           0         0             0       0  \n\n[5 rows x 76 columns]",
      "text/html": "<div>\n<style scoped>\n    .dataframe tbody tr th:only-of-type {\n        vertical-align: middle;\n    }\n\n    .dataframe tbody tr th {\n        vertical-align: top;\n    }\n\n    .dataframe thead th {\n        text-align: right;\n    }\n</style>\n<table border=\"1\" class=\"dataframe\">\n  <thead>\n    <tr style=\"text-align: right;\">\n      <th></th>\n      <th>product_id</th>\n      <th>time_id</th>\n      <th>customer_id</th>\n      <th>store_id</th>\n      <th>store_sales</th>\n      <th>store_cost</th>\n      <th>unit_sales</th>\n      <th>city_x</th>\n      <th>state_province_x</th>\n      <th>country_x</th>\n      <th>...</th>\n      <th>last_remodel_date</th>\n      <th>store_sqft</th>\n      <th>grocery_sqft</th>\n      <th>frozen_sqft</th>\n      <th>meat_sqft</th>\n      <th>coffee_bar</th>\n      <th>video_store</th>\n      <th>salad_bar</th>\n      <th>prepared_food</th>\n      <th>florist</th>\n    </tr>\n  </thead>\n  <tbody>\n    <tr>\n      <th>0</th>\n      <td>337</td>\n      <td>371</td>\n      <td>6280</td>\n      <td>2</td>\n      <td>1.50</td>\n      <td>0.5100</td>\n      <td>2</td>\n      <td>Anacortes</td>\n      <td>WA</td>\n      <td>USA</td>\n      <td>...</td>\n      <td>4/6/1973 0:00</td>\n      <td>28206</td>\n      <td>22271</td>\n      <td>3561</td>\n      <td>2374</td>\n      <td>1</td>\n      <td>0</td>\n      <td>0</td>\n      <td>0</td>\n      <td>0</td>\n    </tr>\n    <tr>\n      <th>1</th>\n      <td>337</td>\n      <td>987</td>\n      <td>5713</td>\n      <td>2</td>\n      <td>0.75</td>\n      <td>0.2775</td>\n      <td>1</td>\n      <td>Anacortes</td>\n      <td>WA</td>\n      <td>USA</td>\n      <td>...</td>\n      <td>4/6/1973 0:00</td>\n      <td>28206</td>\n      <td>22271</td>\n      <td>3561</td>\n      <td>2374</td>\n      <td>1</td>\n      <td>0</td>\n      <td>0</td>\n      <td>0</td>\n      <td>0</td>\n    </tr>\n    <tr>\n      <th>2</th>\n      <td>337</td>\n      <td>742</td>\n      <td>307</td>\n      <td>2</td>\n      <td>2.25</td>\n      <td>0.7425</td>\n      <td>3</td>\n      <td>Sedro Woolley</td>\n      <td>WA</td>\n      <td>USA</td>\n      <td>...</td>\n      <td>4/6/1973 0:00</td>\n      <td>28206</td>\n      <td>22271</td>\n      <td>3561</td>\n      <td>2374</td>\n      <td>1</td>\n      <td>0</td>\n      <td>0</td>\n      <td>0</td>\n      <td>0</td>\n    </tr>\n    <tr>\n      <th>3</th>\n      <td>963</td>\n      <td>371</td>\n      <td>4018</td>\n      <td>2</td>\n      <td>2.40</td>\n      <td>0.7200</td>\n      <td>1</td>\n      <td>Sedro Woolley</td>\n      <td>WA</td>\n      <td>USA</td>\n      <td>...</td>\n      <td>4/6/1973 0:00</td>\n      <td>28206</td>\n      <td>22271</td>\n      <td>3561</td>\n      <td>2374</td>\n      <td>1</td>\n      <td>0</td>\n      <td>0</td>\n      <td>0</td>\n      <td>0</td>\n    </tr>\n    <tr>\n      <th>4</th>\n      <td>963</td>\n      <td>952</td>\n      <td>5121</td>\n      <td>2</td>\n      <td>2.40</td>\n      <td>1.1040</td>\n      <td>1</td>\n      <td>Bellingham</td>\n      <td>WA</td>\n      <td>USA</td>\n      <td>...</td>\n      <td>4/6/1973 0:00</td>\n      <td>28206</td>\n      <td>22271</td>\n      <td>3561</td>\n      <td>2374</td>\n      <td>1</td>\n      <td>0</td>\n      <td>0</td>\n      <td>0</td>\n      <td>0</td>\n    </tr>\n  </tbody>\n</table>\n<p>5 rows × 76 columns</p>\n</div>"
     },
     "execution_count": 63,
     "metadata": {},
     "output_type": "execute_result"
    }
   ],
   "source": [
    "##Data merge on sales data frame with stores data frame on store_id\n",
    "sales = sales.merge (stores, on = 'store_id')\n",
    "sales.head()"
   ],
   "metadata": {
    "collapsed": false,
    "pycharm": {
     "name": "#%%\n"
    }
   }
  },
  {
   "cell_type": "code",
   "execution_count": 64,
   "outputs": [
    {
     "data": {
      "text/plain": "   product_id  time_id  customer_id  store_id  store_sales  store_cost  \\\n0         337      371         6280         2         1.50      0.5100   \n1         963      371         4018         2         2.40      0.7200   \n2        1512      371         6280         2         1.62      0.6318   \n3         181      371         4018         2         2.79      1.0323   \n4         483      371         4382         2         3.88      1.7072   \n\n   unit_sales         city_x state_province_x country_x  ...  video_store  \\\n0           2      Anacortes               WA       USA  ...            0   \n1           1  Sedro Woolley               WA       USA  ...            0   \n2           3      Anacortes               WA       USA  ...            0   \n3           3  Sedro Woolley               WA       USA  ...            0   \n4           2      Anacortes               WA       USA  ...            0   \n\n  salad_bar prepared_food  florist    the_date the_day the_year the_month  \\\n0         0             0        0  1997-01-05  Sunday     1997         1   \n1         0             0        0  1997-01-05  Sunday     1997         1   \n2         0             0        0  1997-01-05  Sunday     1997         1   \n3         0             0        0  1997-01-05  Sunday     1997         1   \n4         0             0        0  1997-01-05  Sunday     1997         1   \n\n  day_of_month day_since_epoch  \n0            5           33973  \n1            5           33973  \n2            5           33973  \n3            5           33973  \n4            5           33973  \n\n[5 rows x 82 columns]",
      "text/html": "<div>\n<style scoped>\n    .dataframe tbody tr th:only-of-type {\n        vertical-align: middle;\n    }\n\n    .dataframe tbody tr th {\n        vertical-align: top;\n    }\n\n    .dataframe thead th {\n        text-align: right;\n    }\n</style>\n<table border=\"1\" class=\"dataframe\">\n  <thead>\n    <tr style=\"text-align: right;\">\n      <th></th>\n      <th>product_id</th>\n      <th>time_id</th>\n      <th>customer_id</th>\n      <th>store_id</th>\n      <th>store_sales</th>\n      <th>store_cost</th>\n      <th>unit_sales</th>\n      <th>city_x</th>\n      <th>state_province_x</th>\n      <th>country_x</th>\n      <th>...</th>\n      <th>video_store</th>\n      <th>salad_bar</th>\n      <th>prepared_food</th>\n      <th>florist</th>\n      <th>the_date</th>\n      <th>the_day</th>\n      <th>the_year</th>\n      <th>the_month</th>\n      <th>day_of_month</th>\n      <th>day_since_epoch</th>\n    </tr>\n  </thead>\n  <tbody>\n    <tr>\n      <th>0</th>\n      <td>337</td>\n      <td>371</td>\n      <td>6280</td>\n      <td>2</td>\n      <td>1.50</td>\n      <td>0.5100</td>\n      <td>2</td>\n      <td>Anacortes</td>\n      <td>WA</td>\n      <td>USA</td>\n      <td>...</td>\n      <td>0</td>\n      <td>0</td>\n      <td>0</td>\n      <td>0</td>\n      <td>1997-01-05</td>\n      <td>Sunday</td>\n      <td>1997</td>\n      <td>1</td>\n      <td>5</td>\n      <td>33973</td>\n    </tr>\n    <tr>\n      <th>1</th>\n      <td>963</td>\n      <td>371</td>\n      <td>4018</td>\n      <td>2</td>\n      <td>2.40</td>\n      <td>0.7200</td>\n      <td>1</td>\n      <td>Sedro Woolley</td>\n      <td>WA</td>\n      <td>USA</td>\n      <td>...</td>\n      <td>0</td>\n      <td>0</td>\n      <td>0</td>\n      <td>0</td>\n      <td>1997-01-05</td>\n      <td>Sunday</td>\n      <td>1997</td>\n      <td>1</td>\n      <td>5</td>\n      <td>33973</td>\n    </tr>\n    <tr>\n      <th>2</th>\n      <td>1512</td>\n      <td>371</td>\n      <td>6280</td>\n      <td>2</td>\n      <td>1.62</td>\n      <td>0.6318</td>\n      <td>3</td>\n      <td>Anacortes</td>\n      <td>WA</td>\n      <td>USA</td>\n      <td>...</td>\n      <td>0</td>\n      <td>0</td>\n      <td>0</td>\n      <td>0</td>\n      <td>1997-01-05</td>\n      <td>Sunday</td>\n      <td>1997</td>\n      <td>1</td>\n      <td>5</td>\n      <td>33973</td>\n    </tr>\n    <tr>\n      <th>3</th>\n      <td>181</td>\n      <td>371</td>\n      <td>4018</td>\n      <td>2</td>\n      <td>2.79</td>\n      <td>1.0323</td>\n      <td>3</td>\n      <td>Sedro Woolley</td>\n      <td>WA</td>\n      <td>USA</td>\n      <td>...</td>\n      <td>0</td>\n      <td>0</td>\n      <td>0</td>\n      <td>0</td>\n      <td>1997-01-05</td>\n      <td>Sunday</td>\n      <td>1997</td>\n      <td>1</td>\n      <td>5</td>\n      <td>33973</td>\n    </tr>\n    <tr>\n      <th>4</th>\n      <td>483</td>\n      <td>371</td>\n      <td>4382</td>\n      <td>2</td>\n      <td>3.88</td>\n      <td>1.7072</td>\n      <td>2</td>\n      <td>Anacortes</td>\n      <td>WA</td>\n      <td>USA</td>\n      <td>...</td>\n      <td>0</td>\n      <td>0</td>\n      <td>0</td>\n      <td>0</td>\n      <td>1997-01-05</td>\n      <td>Sunday</td>\n      <td>1997</td>\n      <td>1</td>\n      <td>5</td>\n      <td>33973</td>\n    </tr>\n  </tbody>\n</table>\n<p>5 rows × 82 columns</p>\n</div>"
     },
     "execution_count": 64,
     "metadata": {},
     "output_type": "execute_result"
    }
   ],
   "source": [
    "##Data merge on sales data frame with TBD on time_id\n",
    "sales = sales.merge(TBD, on = 'time_id')\n",
    "sales.head()"
   ],
   "metadata": {
    "collapsed": false,
    "pycharm": {
     "name": "#%%\n"
    }
   }
  },
  {
   "cell_type": "code",
   "execution_count": 70,
   "outputs": [],
   "source": [
    "sales.to_csv('C:/Users/tjwav/OneDrive/Desktop/data/Foodmart_dataset.csv')"
   ],
   "metadata": {
    "collapsed": false,
    "pycharm": {
     "name": "#%%\n"
    }
   }
  },
  {
   "cell_type": "code",
   "execution_count": null,
   "outputs": [],
   "source": [],
   "metadata": {
    "collapsed": false,
    "pycharm": {
     "name": "#%%\n"
    }
   }
  }
 ],
 "metadata": {
  "kernelspec": {
   "display_name": "Python 3",
   "language": "python",
   "name": "python3"
  },
  "language_info": {
   "codemirror_mode": {
    "name": "ipython",
    "version": 2
   },
   "file_extension": ".py",
   "mimetype": "text/x-python",
   "name": "python",
   "nbconvert_exporter": "python",
   "pygments_lexer": "ipython2",
   "version": "2.7.6"
  }
 },
 "nbformat": 4,
 "nbformat_minor": 0
}